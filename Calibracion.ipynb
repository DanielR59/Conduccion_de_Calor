{
 "cells": [
  {
   "cell_type": "code",
   "execution_count": 20,
   "metadata": {},
   "outputs": [],
   "source": [
    "from matriz import solucion_sistema1D_Poisson,solucion_sistema_conductividad_variable, solucion_sistema1D_Neumann\n",
    "import numpy as np\n",
    "import matplotlib.pyplot as plt"
   ]
  },
  {
   "cell_type": "markdown",
   "metadata": {},
   "source": [
    "# Ecuacion de Poisson condicion tipo Dirichlet\n",
    "\n",
    "\n",
    "$$\n",
    "            \\frac{d^2u(x)}{dx^x}= -f^2u(x)\\quad x \\epsilon [0,1]\n",
    "$$\n"
   ]
  },
  {
   "cell_type": "code",
   "execution_count": 21,
   "metadata": {},
   "outputs": [],
   "source": [
    "#Parametros iniciales del sistema\n",
    "#x_inicial= float(input('| Punto inicial del dominio : x_inicial =  '))\n",
    "#x_final=float(input('| Punto final del dominio      : x_final = '))\n",
    "\n",
    "\n",
    "#N=int(input('| Número total de incógnitas o nodos    : N = '))\n",
    "#Ta=float(input('| Temperatura en la frontera A      : A = '))\n",
    "#Tb=float(input('| Temperatura en la frontera B      : B ='))\n",
    "#kappa=5\n",
    "#Q=0\n",
    "x_inicial=0\n",
    "x_final=1\n",
    "N=4\n",
    "h=(x_final-x_inicial)/(N+1)\n",
    "\n",
    "Ta=1\n",
    "Tb=1\n",
    "f=1\n",
    "x=[i for i in np.arange(x_inicial,x_final+h,h)]\n",
    "#x=np.array(x)"
   ]
  },
  {
   "cell_type": "code",
   "execution_count": 22,
   "metadata": {},
   "outputs": [],
   "source": [
    "u=solucion_sistema1D_Poisson(N,h,Ta,Tb,f)\n",
    "if len(u)<len(x):\n",
    "    x[-2]=Tb\n",
    "    x.pop(-1)\n"
   ]
  },
  {
   "cell_type": "code",
   "execution_count": 23,
   "metadata": {},
   "outputs": [],
   "source": [
    "u_analitica= lambda x,f: ((1-np.cos(f))/np.sin(f))*np.sin(f*x)+np.cos(f*x)"
   ]
  },
  {
   "cell_type": "code",
   "execution_count": 24,
   "metadata": {
    "scrolled": true
   },
   "outputs": [
    {
     "data": {
      "text/plain": [
       "[<matplotlib.lines.Line2D at 0x209ecce3d00>]"
      ]
     },
     "execution_count": 24,
     "metadata": {},
     "output_type": "execute_result"
    },
    {
     "data": {
      "image/png": "[encoded data removed]",
      "text/plain": [
       "<Figure size 432x288 with 1 Axes>"
      ]
     },
     "metadata": {
      "needs_background": "light"
     },
     "output_type": "display_data"
    }
   ],
   "source": [
    "plt.plot(x,u,'o')\n",
    "plt.plot(x,u_analitica(np.array(x),f))"
   ]
  },
  {
   "cell_type": "markdown",
   "metadata": {},
   "source": [
    "### Ecuacion de error para Poisson condicion tipo Dirichlet"
   ]
  },
  {
   "cell_type": "code",
   "execution_count": 25,
   "metadata": {},
   "outputs": [
    {
     "name": "stdout",
     "output_type": "stream",
     "text": [
      " Error = 0.0003786120789 \n"
     ]
    }
   ],
   "source": [
    "#Usando la norma Euclidiana para el error\n",
    "Error = np.sqrt(h) * np.linalg.norm(u - u_analitica(np.array(x),f))\n",
    "print(\" Error = %12.10g \" % Error)"
   ]
  },
  {
   "cell_type": "markdown",
   "metadata": {},
   "source": [
    "# Ecuacion de Poisson, conductividad no constante\n",
    "\n"
   ]
  },
  {
   "cell_type": "code",
   "execution_count": 26,
   "metadata": {},
   "outputs": [],
   "source": [
    "x_inicial=0\n",
    "x_final=1\n",
    "N=50\n",
    "h=(x_final-x_inicial)/(N+1)\n",
    "x=np.array([i for i in np.arange(x_inicial,x_final+h,h)])\n",
    "Ta=2.0\n",
    "Tb=1.0\n",
    "Q=0\n",
    "kappa=np.fabs(np.sin(4*np.pi*x))"
   ]
  },
  {
   "cell_type": "code",
   "execution_count": 27,
   "metadata": {},
   "outputs": [],
   "source": [
    "u=solucion_sistema_conductividad_variable(N,h,Ta,Tb,kappa,Q)"
   ]
  },
  {
   "cell_type": "markdown",
   "metadata": {},
   "source": [
    "### Ecuacion de error para Poisson conducción no constante"
   ]
  },
  {
   "cell_type": "code",
   "execution_count": 28,
   "metadata": {},
   "outputs": [
    {
     "name": "stdout",
     "output_type": "stream",
     "text": [
      " Error = 0.5046644131 \n"
     ]
    }
   ],
   "source": [
    "Error = np.sqrt(h) * np.linalg.norm(u- u_analitica(np.array(x),f))\n",
    "print(\" Error = %12.10g \" % Error)"
   ]
  },
  {
   "cell_type": "code",
   "execution_count": 29,
   "metadata": {},
   "outputs": [
    {
     "data": {
      "text/plain": [
       "[<matplotlib.lines.Line2D at 0x209ecd41c40>]"
      ]
     },
     "execution_count": 29,
     "metadata": {},
     "output_type": "execute_result"
    },
    {
     "data": {
      "image/png": "[encoded data removed]",
      "text/plain": [
       "<Figure size 432x288 with 1 Axes>"
      ]
     },
     "metadata": {
      "needs_background": "light"
     },
     "output_type": "display_data"
    }
   ],
   "source": [
    "plt.plot(x,u)"
   ]
  },
  {
   "cell_type": "code",
   "execution_count": 30,
   "metadata": {},
   "outputs": [],
   "source": [
    "kappa=np.random.random(len(x))\n",
    "u=solucion_sistema_conductividad_variable(N,h,Ta,Tb,kappa,Q)"
   ]
  },
  {
   "cell_type": "markdown",
   "metadata": {},
   "source": [
    "### Ecuacion de error para Poisson, conductividad no constante con función random"
   ]
  },
  {
   "cell_type": "code",
   "execution_count": 31,
   "metadata": {},
   "outputs": [
    {
     "name": "stdout",
     "output_type": "stream",
     "text": [
      " Error = 0.5423237715 \n"
     ]
    }
   ],
   "source": [
    "Error = np.sqrt(h) * np.linalg.norm(u -u_analitica(np.array(x),f))\n",
    "print(\" Error = %12.10g \" % Error)"
   ]
  },
  {
   "cell_type": "code",
   "execution_count": 32,
   "metadata": {},
   "outputs": [
    {
     "data": {
      "text/plain": [
       "[<matplotlib.lines.Line2D at 0x209ecda0340>]"
      ]
     },
     "execution_count": 32,
     "metadata": {},
     "output_type": "execute_result"
    },
    {
     "data": {
      "image/png": "[encoded data removed]",
      "text/plain": [
       "<Figure size 432x288 with 1 Axes>"
      ]
     },
     "metadata": {
      "needs_background": "light"
     },
     "output_type": "display_data"
    }
   ],
   "source": [
    "plt.plot(x,u)"
   ]
  },
  {
   "cell_type": "markdown",
   "metadata": {},
   "source": [
    "# Solucion condicion tipo Neumman\n",
    "\n",
    "$$\n",
    "            \\frac{d^2u(x)}{dx^x}= -f^2u(x)\\quad x \\epsilon [0,1]\n",
    "$$\n",
    "\n",
    "$$\n",
    "            \\frac{du}{dn}(0)=0\\\\\n",
    "            u(1)=3\n",
    "$$\n",
    "\n"
   ]
  },
  {
   "cell_type": "code",
   "execution_count": 33,
   "metadata": {},
   "outputs": [],
   "source": [
    "#Calculos iniciales\n",
    "x_inicial=0\n",
    "x_final=1\n",
    "N=50\n",
    "h=(x_final-x_inicial)/(N+1)\n",
    "x=[h*i for i in range(N+2)]\n",
    "Ta=0\n",
    "Tb=3\n",
    "kappa=1\n",
    "Q=np.exp(x)\n"
   ]
  },
  {
   "cell_type": "code",
   "execution_count": 34,
   "metadata": {},
   "outputs": [],
   "source": [
    "u=solucion_sistema1D_Neumann(N,h,kappa,Q,Ta,Tb,\"izquierda\")"
   ]
  },
  {
   "cell_type": "code",
   "execution_count": 35,
   "metadata": {},
   "outputs": [],
   "source": [
    "u_analitica= lambda x: np.exp(x)-x-np.exp(1)+4"
   ]
  },
  {
   "cell_type": "markdown",
   "metadata": {},
   "source": [
    "### Ecuacion de error para Poisson, condición tipo Neumman"
   ]
  },
  {
   "cell_type": "code",
   "execution_count": 36,
   "metadata": {},
   "outputs": [
    {
     "name": "stdout",
     "output_type": "stream",
     "text": [
      " Error = 5.483990113e-05 \n"
     ]
    }
   ],
   "source": [
    "Error = np.sqrt(h) * np.linalg.norm(u-u_analitica(x))\n",
    "print(\" Error = %12.10g \" % Error)"
   ]
  },
  {
   "cell_type": "code",
   "execution_count": 37,
   "metadata": {},
   "outputs": [
    {
     "data": {
      "text/plain": [
       "[<matplotlib.lines.Line2D at 0x209ecdfe070>]"
      ]
     },
     "execution_count": 37,
     "metadata": {},
     "output_type": "execute_result"
    },
    {
     "data": {
      "image/png": "[encoded data removed]",
      "text/plain": [
       "<Figure size 432x288 with 1 Axes>"
      ]
     },
     "metadata": {
      "needs_background": "light"
     },
     "output_type": "display_data"
    }
   ],
   "source": [
    "plt.plot(x,u_analitica(x))\n",
    "plt.plot(x,u,'o')\n"
   ]
  },
  {
   "cell_type": "code",
   "execution_count": null,
   "metadata": {},
   "outputs": [],
   "source": []
  }
 ],
 "metadata": {
  "kernelspec": {
   "display_name": "Python 3",
   "language": "python",
   "name": "python3"
  },
  "language_info": {
   "codemirror_mode": {
    "name": "ipython",
    "version": 3
   },
   "file_extension": ".py",
   "mimetype": "text/x-python",
   "name": "python",
   "nbconvert_exporter": "python",
   "pygments_lexer": "ipython3",
   "version": "3.8.6"
  },
  "varInspector": {
   "cols": {
    "lenName": 16,
    "lenType": 16,
    "lenVar": 40
   },
   "kernels_config": {
    "python": {
     "delete_cmd_postfix": "",
     "delete_cmd_prefix": "del ",
     "library": "var_list.py",
     "varRefreshCmd": "print(var_dic_list())"
    },
    "r": {
     "delete_cmd_postfix": ") ",
     "delete_cmd_prefix": "rm(",
     "library": "var_list.r",
     "varRefreshCmd": "cat(var_dic_list()) "
    }
   },
   "types_to_exclude": [
    "module",
    "function",
    "builtin_function_or_method",
    "instance",
    "_Feature"
   ],
   "window_display": false
  }
 },
 "nbformat": 4,
 "nbformat_minor": 4
}
