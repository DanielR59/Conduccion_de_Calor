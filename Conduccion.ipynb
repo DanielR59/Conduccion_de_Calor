{
 "cells": [
  {
   "cell_type": "code",
   "execution_count": 1,
   "metadata": {},
   "outputs": [],
   "source": [
    "import numpy as np\n",
    "import matplotlib.pyplot as plt\n",
    "from matriz import *\n",
    "from graficas import *"
   ]
  },
  {
   "cell_type": "code",
   "execution_count": 3,
   "metadata": {},
   "outputs": [
    {
     "name": "stdout",
     "output_type": "stream",
     "text": [
      "| Punto inicial del dominio : x_inicial =  0\n",
      "| Punto final del dominio      : x_final = 5.8\n",
      "| Número total de incógnitas o nodos    : N = 45\n",
      "| Temperatura en la frontera A      : A = 1.2\n",
      "| Temperatura en la frontera B      : B =98.5\n"
     ]
    },
    {
     "data": {
      "image/png": "[encoded data removed]",
      "text/plain": [
       "<Figure size 432x288 with 1 Axes>"
      ]
     },
     "metadata": {
      "needs_background": "light"
     },
     "output_type": "display_data"
    }
   ],
   "source": [
    "#Parametros iniciales del sistema\n",
    "x_inicial= float(input('| Punto inicial del dominio : x_inicial =  '))\n",
    "x_final=float(input('| Punto final del dominio      : x_final = '))\n",
    "\n",
    "\n",
    "N=int(input('| Número total de incógnitas o nodos    : N = '))\n",
    "Ta=float(input('| Temperatura en la frontera A      : A = '))\n",
    "Tb=float(input('| Temperatura en la frontera B      : B ='))\n",
    "kappa=5\n",
    "Q=0\n",
    "plot_dominio(x_inicial,x_final,N)\n",
    "\n",
    "\n"
   ]
  },
  {
   "cell_type": "code",
   "execution_count": 4,
   "metadata": {},
   "outputs": [
    {
     "data": {
      "text/plain": [
       "0.12608695652173912"
      ]
     },
     "execution_count": 4,
     "metadata": {},
     "output_type": "execute_result"
    }
   ],
   "source": [
    "#Calculos iniciales\n",
    "h=(x_final-x_inicial)/(N+1)\n",
    "x=[h*i for i in range(N+2)]\n",
    "h"
   ]
  },
  {
   "cell_type": "code",
   "execution_count": 5,
   "metadata": {
    "scrolled": true
   },
   "outputs": [
    {
     "data": {
      "text/plain": [
       "array([ 1.2       ,  3.31521739,  5.43043478,  7.54565217,  9.66086957,\n",
       "       11.77608696, 13.89130435, 16.00652174, 18.12173913, 20.23695652,\n",
       "       22.35217391, 24.4673913 , 26.5826087 , 28.69782609, 30.81304348,\n",
       "       32.92826087, 35.04347826, 37.15869565, 39.27391304, 41.38913043,\n",
       "       43.50434783, 45.61956522, 47.73478261, 49.85      , 51.96521739,\n",
       "       54.08043478, 56.19565217, 58.31086957, 60.42608696, 62.54130435,\n",
       "       64.65652174, 66.77173913, 68.88695652, 71.00217391, 73.1173913 ,\n",
       "       75.2326087 , 77.34782609, 79.46304348, 81.57826087, 83.69347826,\n",
       "       85.80869565, 87.92391304, 90.03913043, 92.15434783, 94.26956522,\n",
       "       96.38478261, 98.5       ])"
      ]
     },
     "execution_count": 5,
     "metadata": {},
     "output_type": "execute_result"
    }
   ],
   "source": [
    "u=solucion_sistema1D(N,h,Ta,Tb,kappa,Q)\n",
    "u\n"
   ]
  },
  {
   "cell_type": "code",
   "execution_count": 6,
   "metadata": {},
   "outputs": [
    {
     "data": {
      "image/png": "[encoded data removed]",
      "text/plain": [
       "<Figure size 432x288 with 2 Axes>"
      ]
     },
     "metadata": {
      "needs_background": "light"
     },
     "output_type": "display_data"
    }
   ],
   "source": [
    "plot_dominio2(x_inicial,x_final,N,u,Ta,Tb)"
   ]
  },
  {
   "cell_type": "code",
   "execution_count": null,
   "metadata": {},
   "outputs": [],
   "source": []
  },
  {
   "cell_type": "code",
   "execution_count": null,
   "metadata": {},
   "outputs": [],
   "source": []
  },
  {
   "cell_type": "code",
   "execution_count": null,
   "metadata": {},
   "outputs": [],
   "source": []
  }
 ],
 "metadata": {
  "kernelspec": {
   "display_name": "Python 3",
   "language": "python",
   "name": "python3"
  },
  "language_info": {
   "codemirror_mode": {
    "name": "ipython",
    "version": 3
   },
   "file_extension": ".py",
   "mimetype": "text/x-python",
   "name": "python",
   "nbconvert_exporter": "python",
   "pygments_lexer": "ipython3",
   "version": "3.8.6"
  },
  "varInspector": {
   "cols": {
    "lenName": 16,
    "lenType": 16,
    "lenVar": 40
   },
   "kernels_config": {
    "python": {
     "delete_cmd_postfix": "",
     "delete_cmd_prefix": "del ",
     "library": "var_list.py",
     "varRefreshCmd": "print(var_dic_list())"
    },
    "r": {
     "delete_cmd_postfix": ") ",
     "delete_cmd_prefix": "rm(",
     "library": "var_list.r",
     "varRefreshCmd": "cat(var_dic_list()) "
    }
   },
   "types_to_exclude": [
    "module",
    "function",
    "builtin_function_or_method",
    "instance",
    "_Feature"
   ],
   "window_display": false
  }
 },
 "nbformat": 4,
 "nbformat_minor": 4
}
